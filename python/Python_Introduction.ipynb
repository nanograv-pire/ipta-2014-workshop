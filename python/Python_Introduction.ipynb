{
 "metadata": {
  "name": ""
 },
 "nbformat": 3,
 "nbformat_minor": 0,
 "worksheets": [
  {
   "cells": [
    {
     "cell_type": "heading",
     "level": 1,
     "metadata": {},
     "source": [
      "Python Introduction"
     ]
    },
    {
     "cell_type": "markdown",
     "metadata": {},
     "source": [
      "Welcome to the would of Python!\n",
      "\n",
      "This document provides some basic usage of python start from zero. If you are an expert of python, please forget about this document. \n",
      "\n",
      "Python as modern script programming language, it contain the advantage of flexible, easy to access, and great documentation. \n"
     ]
    },
    {
     "cell_type": "heading",
     "level": 2,
     "metadata": {},
     "source": [
      "Interactive with Python\n"
     ]
    },
    {
     "cell_type": "markdown",
     "metadata": {},
     "source": [
      "To interactive with python, first make sure you have right Python version get installed. Here we are using Python 2.7.\n",
      "There are three ways of running python:\n",
      "\n",
      "<h3>1. Run python script from terminal.</h3>\n",
      "\n",
      "<p>    \n",
      "    First you have to create a file with the name XXX.py. \n",
      "    <br/>\n",
      "    When you finish writing your code in this file, just run:\n",
      "    <br/><br/>\n",
      "    <font color=\"blue\"><b> $ python XXX.py </b></font>\n",
      "    <br/><br/>\n",
      "    This commend will run the script in the terminal, and print the output. But no varible will be saved in the memory.\n",
      "</p>"
     ]
    },
    {
     "cell_type": "markdown",
     "metadata": {},
     "source": [
      "<h3>2. Python or ipython interface.</h3>\n",
      "<p>\n",
      "    In the terminal, run:\n",
      "    <br/><br/>\n",
      "    <font color=\"blue\"><b>\\$ python </b></font> or <font color=\"blue\"><b>\\$ ipython</b> </font>\n",
      "    <br/><br/>\n",
      "    it will bring you to the python interface. You can edit your script and run it line by line in th,.e well develpoed interface. Here the\n",
      "    varibles are saved in the memory. In other words, you can call the varibles by typing their name. \n",
      "    <br/>\n",
      "    Ipython is more powerful than original python interface, but make sure you already download and install it.\n",
      "</p>"
     ]
    },
    {
     "cell_type": "markdown",
     "metadata": {},
     "source": [
      "<h3>3. Ipython notebook. </h3>\n",
      "<p>\n",
      "    Ipython notebook is a web browser based ipython version. It has a very user friendly interface. In our section we will use ipython notebook \n",
      "    as our interface. \n",
      "    <br/><br/>\n",
      "    First make sure ipython notebook has been installed. \n",
      "    <br/>\n",
      "    Run :\n",
      "    <br/><br/>\n",
      "    <font color=\"blue\"><b>\\$ ipython notebook --pylab inline</b></font>\n",
      "    <br/><br/>\n",
      "    The flag helps the browser show the python plot. \n",
      "    <br/>\n",
      "    Ipython notebook has a very nice way of editing which is you can edit your srcipt on the history line. \n",
      "</p>"
     ]
    },
    {
     "cell_type": "heading",
     "level": 2,
     "metadata": {},
     "source": [
      "Python Programming Style"
     ]
    },
    {
     "cell_type": "markdown",
     "metadata": {},
     "source": [
      "Python has it's unique style of programming. If you only familiar with C or MATLAB please take a look here. "
     ]
    },
    {
     "cell_type": "markdown",
     "metadata": {},
     "source": [
      "<h3>Built-in functions<h3/>\n",
      "<p>\n",
      "    Python has a set of basic built-in functions, such as <b>print()</b>, <b>len()</b>, <b>and max()</b>. If you want to view all the built-in functions, please \n",
      "    visit \n",
      "    <br/>\n",
      "    https://docs.python.org/2/library/functions.html. \n",
      "    <br/>\n",
      "    Here we only give an example of output \"Hello world\" in the screen. Please take a look at the cell below. \n",
      "    <br/>\n",
      "    <br/>\n",
      "    After you edited your sentence you can just hit <b>Shift+ Enter (Return)</b>, \n",
      "    the answer will show below the cell. \n",
      "    <br/>\n",
      "    If you only hit <b>Enter (Return)</b>, it is simply change to the next line.\n",
      "    <br/>\n",
      "    You can come back and change it to whatever you want by cilck on the cell. \n",
      "<p/>"
     ]
    },
    {
     "cell_type": "code",
     "collapsed": false,
     "input": [
      "print \"Hello world\"  # no need to add \";\" in the end of your sentence"
     ],
     "language": "python",
     "metadata": {},
     "outputs": [
      {
       "output_type": "stream",
       "stream": "stdout",
       "text": [
        "Hello world\n"
       ]
      }
     ],
     "prompt_number": 2
    },
    {
     "cell_type": "markdown",
     "metadata": {},
     "source": [
      "<p>\n",
      "    The built-in function in ipython notebook will show as green color (in general) and bolted.\n",
      "    <br/>\n",
      "    The \"#\" is the comment symbol, and the comment shows as a color your light blue. \n",
      "    <br/>\n",
      "    For those who has no programming experience:\n",
      "    <br/>\n",
      "    Comment is something the the program will not run. you can put the explaination after the comment symbol.\n",
      "<p/>"
     ]
    },
    {
     "cell_type": "markdown",
     "metadata": {},
     "source": [
      "<h3> Indent <h3/>\n",
      "<p>\n",
      "    Not like C or MATLAB, indent is important for python. It is the way of defining the logic block of your program. <font color=\"red\"><b>An right indent is \n",
      "    required. Same logic program block should be in the same indent.</b></font>\n",
      "    <br/>\n",
      "    Here is one example of wrong indent and one right. \n",
      "<p/>"
     ]
    },
    {
     "cell_type": "code",
     "collapsed": false,
     "input": [
      "  a = \"Hello\"     # Set varible \"a\" as a string with the content \"Hello\"\n",
      "    b = \"ipta\"    # Set varible \"b\" as a string with the contect \"ipta\"\n",
      "    print a,b     # Print varible a and b in the order or a,b"
     ],
     "language": "python",
     "metadata": {},
     "outputs": [
      {
       "ename": "IndentationError",
       "evalue": "unexpected indent (<ipython-input-3-8d05a2d668e4>, line 2)",
       "output_type": "pyerr",
       "traceback": [
        "\u001b[0;36m  File \u001b[0;32m\"<ipython-input-3-8d05a2d668e4>\"\u001b[0;36m, line \u001b[0;32m2\u001b[0m\n\u001b[0;31m    b = \"World\"\u001b[0m\n\u001b[0m    ^\u001b[0m\n\u001b[0;31mIndentationError\u001b[0m\u001b[0;31m:\u001b[0m unexpected indent\n"
       ]
      }
     ],
     "prompt_number": 3
    },
    {
     "cell_type": "markdown",
     "metadata": {},
     "source": [
      "<p>\n",
      "You can see python returns an \"IndentationError\". \n",
      "<br/><br/>\n",
      "What if we do the right indent\n",
      "<p/>"
     ]
    },
    {
     "cell_type": "code",
     "collapsed": false,
     "input": [
      "a = \"Hello\"   # Set varible \"a\" as a string with the content \"Hello\"\n",
      "b = \"ipta\"    # Set varible \"b\" as a string with the contect \"ipta\"\n",
      "print a,b     # Print varible a and b in the order or a,b"
     ],
     "language": "python",
     "metadata": {},
     "outputs": [
      {
       "output_type": "stream",
       "stream": "stdout",
       "text": [
        "Hello ipta\n"
       ]
      }
     ],
     "prompt_number": 4
    },
    {
     "cell_type": "markdown",
     "metadata": {},
     "source": [
      "<p>\n",
      "It is a very common error for beginers, but it is not hard. You will indent will be involved in all the other sections. \n",
      "<p/>"
     ]
    },
    {
     "cell_type": "markdown",
     "metadata": {},
     "source": [
      "<h3> For Loop<h3/>"
     ]
    },
    {
     "cell_type": "markdown",
     "metadata": {},
     "source": [
      "<p>\n",
      "Doing for loops in python has a little bit different expression. Please see below:\n",
      "<p/>"
     ]
    },
    {
     "cell_type": "code",
     "collapsed": false,
     "input": [
      "for i in range(5):\n",
      "    # Here i is the counter.\n",
      "    # range(5) is a function gives a list of numbers from 0 to 4.\n",
      "    # In other words, this expression means i will loop over the element in the list. here, from number 0 to 4.\n",
      "    print \"May the force with you.\",i    # print out the sentence and the varible i. \n",
      "    print \"Who said that?\"               # This sentence is in the program block of this for loop, it will run 5 times\n",
      "\n",
      "print \"Me, Gandalf!\"                     # This sentence has the same indent with \"for\" it is not in the for loop and\n",
      "                                         #will run after \"for\" loop"
     ],
     "language": "python",
     "metadata": {},
     "outputs": [
      {
       "output_type": "stream",
       "stream": "stdout",
       "text": [
        "May the force with you. 0\n",
        "Who said that?\n",
        "May the force with you. 1\n",
        "Who said that?\n",
        "May the force with you. 2\n",
        "Who said that?\n",
        "May the force with you. 3\n",
        "Who said that?\n",
        "May the force with you. 4\n",
        "Who said that?\n",
        "Me, Gandalf!\n"
       ]
      }
     ],
     "prompt_number": 14
    },
    {
     "cell_type": "markdown",
     "metadata": {},
     "source": [
      "<p>\n",
      "    This program print the sentence 5 times. It is important to know that in python <font color=\"red\"><b>an array or a list's index starts from 0</b></font>.\n",
      "    <br/>\n",
      "    From the example above we can see for loop will follow the form of \n",
      "    <br/>\n",
      "    <font color=\"blue\"><b>for xx in xxx:\n",
      "        <br>\n",
      "        <span style=\"padding-left:20px\">your sentence</span></b></font> \n",
      "    <br/>\n",
      "    Here \"xx\" is the counter and \"xxx\" is a list that contains some element. These element can be a list of any kind. \"xx\" will loop over every elements of \"xxx\" in order.\n",
      "    <br/>\n",
      "    <br/>\n",
      "    In python \"\\{\" and \"\\}\" are not used for define a program block. Instead, the it uses the indent. \n",
      "<p/>"
     ]
    },
    {
     "cell_type": "markdown",
     "metadata": {},
     "source": [
      "<h3>If Sentence <h3/>"
     ]
    },
    {
     "cell_type": "markdown",
     "metadata": {},
     "source": [
      "<p>\n",
      "    If sentence follows the format of:\n",
      "    <br/>\n",
      "    <font color=\"blue\"><b>if experssion:\n",
      "        <br>\n",
      "        <span style=\"padding-left:20px\">your statement</span>\n",
      "        <br/>\n",
      "        else:\n",
      "        <br/>\n",
      "        <span style=\"padding-left:20px\">your statement</span>\n",
      "        </b></font> \n",
      "    <br/>\n",
      "    Please note: <font color=\"red\">the <b>\"else if\"</b> is changed to <b>\"elif\" </b></font> in python\n",
      "    <br/> \n",
      "    Here we provide an example:\n",
      "</p>\n"
     ]
    },
    {
     "cell_type": "code",
     "collapsed": false,
     "input": [
      "print \"what is the meaning of universe?\"\n",
      "ans = 0\n",
      "print \"My answer is \",ans             # Print is a lot easy for python\n",
      "if ans == 42:                         # It is a common mistake that == means equal in programming, plesase check out \"if not\" it can \n",
      "                                      # be useful.\n",
      "    print ans,\"is the right answer.\"  # The right indent has to be followed. \n",
      "else:\n",
      "    print ans,\"is not right. \"    "
     ],
     "language": "python",
     "metadata": {},
     "outputs": [
      {
       "output_type": "stream",
       "stream": "stdout",
       "text": [
        "what is the meaning of universe?\n",
        "My answer is  0\n",
        "0 is not right. \n"
       ]
      }
     ],
     "prompt_number": 21
    },
    {
     "cell_type": "heading",
     "level": 2,
     "metadata": {},
     "source": [
      "Import packages\n"
     ]
    },
    {
     "cell_type": "markdown",
     "metadata": {},
     "source": [
      "<p>\n",
      "    It is not too much fun and not enough just use the built-in functions. Python provides a lot of extension packages. To use these packages \n",
      "    is very easy. Just do:\n",
      "    <br/>\n",
      "    <br/>\n",
      "    <font color=\"blue\"><b>import package_name</b></font>.\n",
      "    <br/><br/>\n",
      "    The example below will tell you different ways of import package and how to use the functions in the package. Please read the comment. \n",
      "<p/>"
     ]
    },
    {
     "cell_type": "code",
     "collapsed": false,
     "input": [
      "import numpy                   # import a package called numpy\n",
      "a = numpy.zeros(3)             # Using numpy function zeros() to create an array with three zeros inside. Note: we have to use the \n",
      "                               # Package name in front\n",
      "a                            "
     ],
     "language": "python",
     "metadata": {},
     "outputs": [
      {
       "metadata": {},
       "output_type": "pyout",
       "prompt_number": 32,
       "text": [
        "array([ 0.,  0.,  0.])"
       ]
      }
     ],
     "prompt_number": 32
    },
    {
     "cell_type": "markdown",
     "metadata": {},
     "source": [
      "<p>\n",
      "   <font color=\"red\"><b> To use a function in the package, you have to put package name in front of the function. \n",
      "   like \n",
      "   <br/>\n",
      "   \"package name.function name\" \n",
      "   <br/>\n",
      "   unless you use some other methods (see below) to import. \n",
      "   <br/>\n",
      "   And packages only need to be import once.\n",
      "   </b></font>\n",
      "   <br/>\n",
      "   It is also a common mistake for beginners. If we don't do it right we will see the error below.\n",
      "</p>"
     ]
    },
    {
     "cell_type": "code",
     "collapsed": false,
     "input": [
      "a = zeors(3)"
     ],
     "language": "python",
     "metadata": {},
     "outputs": [
      {
       "ename": "NameError",
       "evalue": "name 'zeors' is not defined",
       "output_type": "pyerr",
       "traceback": [
        "\u001b[0;31m---------------------------------------------------------------------------\u001b[0m\n\u001b[0;31mNameError\u001b[0m                                 Traceback (most recent call last)",
        "\u001b[0;32m<ipython-input-33-7f419baa5197>\u001b[0m in \u001b[0;36m<module>\u001b[0;34m()\u001b[0m\n\u001b[0;32m----> 1\u001b[0;31m \u001b[0ma\u001b[0m \u001b[0;34m=\u001b[0m \u001b[0mzeors\u001b[0m\u001b[0;34m(\u001b[0m\u001b[0;36m3\u001b[0m\u001b[0;34m)\u001b[0m\u001b[0;34m\u001b[0m\u001b[0m\n\u001b[0m",
        "\u001b[0;31mNameError\u001b[0m: name 'zeors' is not defined"
       ]
      }
     ],
     "prompt_number": 33
    },
    {
     "cell_type": "markdown",
     "metadata": {},
     "source": [
      "<p>\n",
      "    There are other method of import packages. Please see the example below and read the comment. \n",
      "    \n",
      "<p/>"
     ]
    },
    {
     "cell_type": "code",
     "collapsed": false,
     "input": [
      "import numpy as np           # import numpy package but rename it as np. It can be renamed anything but the conflict names.\n",
      "a = np.zeros(3)              # If you rename it, all the rest of your code will use the new name for this package. \n",
      "a"
     ],
     "language": "python",
     "metadata": {},
     "outputs": [
      {
       "metadata": {},
       "output_type": "pyout",
       "prompt_number": 36,
       "text": [
        "array([ 0.,  0.,  0.])"
       ]
      }
     ],
     "prompt_number": 36
    },
    {
     "cell_type": "code",
     "collapsed": false,
     "input": [
      "from numpy import zeros    # Only import one function from the package called numpy\n",
      "a = zeros(5)               # If you import one function, you don't have to put the package name in front.\n",
      "a"
     ],
     "language": "python",
     "metadata": {},
     "outputs": [
      {
       "metadata": {},
       "output_type": "pyout",
       "prompt_number": 37,
       "text": [
        "array([ 0.,  0.,  0.,  0.,  0.])"
       ]
      }
     ],
     "prompt_number": 37
    },
    {
     "cell_type": "code",
     "collapsed": false,
     "input": [
      "from numpy import *       # import all the functions from numpy, * stands for all\n",
      "a = zeros(3)              # For any function in numpy, no packaeg name will be required\n",
      "b = ones(3)               # This method will take a lot of memory it is not recommend to use it on big packages like numpy.\n",
      "a,b"
     ],
     "language": "python",
     "metadata": {},
     "outputs": [
      {
       "metadata": {},
       "output_type": "pyout",
       "prompt_number": 39,
       "text": [
        "(array([ 0.,  0.,  0.]), array([ 1.,  1.,  1.]))"
       ]
      }
     ],
     "prompt_number": 39
    },
    {
     "cell_type": "heading",
     "level": 2,
     "metadata": {},
     "source": [
      "Python Help"
     ]
    },
    {
     "cell_type": "markdown",
     "metadata": {},
     "source": [
      "<p>\n",
      "It is very import to know the help system in python. How to find help in ipython notebook? It is easy, just do:\n",
      "<br/>\n",
      "<font color=\"blue\"><b>item_name?</b></font>\n",
      "<br/>\n",
      "Item name can be a varible name, a function name, or a package name. For example, I want to see how to use <b>len( )</b> function:\n",
      "<p/>"
     ]
    },
    {
     "cell_type": "code",
     "collapsed": false,
     "input": [
      "len?"
     ],
     "language": "python",
     "metadata": {},
     "outputs": [],
     "prompt_number": 48
    },
    {
     "cell_type": "markdown",
     "metadata": {},
     "source": [
      "<p>\n",
      "    Want more help please visit:\n",
      "    <br/>\n",
      "    Python 2.7 tutorial site:\n",
      "    <br/>\n",
      "    https://docs.python.org/2/tutorial/  \n",
      "    <br/>\n",
      "    If you have too much difficult, use the <b>ultimate help website</b>: \n",
      "    <br/>\n",
      "    http://lmgtfy.com/\n",
      "    <br/>\n",
      "<p/>"
     ]
    },
    {
     "cell_type": "heading",
     "level": 2,
     "metadata": {},
     "source": [
      "Numpy usage "
     ]
    },
    {
     "cell_type": "markdown",
     "metadata": {},
     "source": [
      "<p>\n",
      "NumPy is the fundamental package for scientific computing with Python. It contains among other things:\n",
      "<br/>\n",
      "a powerful N-dimensional array object<br/>\n",
      "sophisticated (broadcasting) functions<br/>\n",
      "tools for integrating C/C++ and Fortran code<br/>\n",
      "useful linear algebra, Fourier transform, and random number capabilities<br/>\n",
      "(From numpy offical site)\n",
      "<br/>\n",
      "Here, we will provide some frequently used function for numpy. \n",
      "<br/> \n",
      "Useful links:\n",
      "<br/>\n",
      "http://docs.scipy.org/doc/numpy/index.html\n",
      "<br/>\n",
      "If you are a MATLAB user, please check out the link:\n",
      "<br/>\n",
      "http://mathesaurus.sourceforge.net/matlab-numpy.html (Numpy for Matlab user)\n",
      "<p/>"
     ]
    },
    {
     "cell_type": "code",
     "collapsed": false,
     "input": [
      "import numpy as np\n",
      "# To create a numpy array\n",
      "a = [1.0,2.0,3.0,4.0]\n",
      "a = np.array(a)   # Create a numpy array, or you can creat it like a = np.array([1.0,2.0,3.0,4.0])\n",
      "a"
     ],
     "language": "python",
     "metadata": {},
     "outputs": [
      {
       "metadata": {},
       "output_type": "pyout",
       "prompt_number": 41,
       "text": [
        "array([ 1.,  2.,  3.,  4.])"
       ]
      }
     ],
     "prompt_number": 41
    },
    {
     "cell_type": "code",
     "collapsed": false,
     "input": [
      "# To create N*M Numpy array with all zeros\n",
      "N = 3\n",
      "M = 2\n",
      "a = np.zeros((N,M))   # N and M has to be in the parentheses like (N,M), or you will get to error\n",
      "a"
     ],
     "language": "python",
     "metadata": {},
     "outputs": [
      {
       "metadata": {},
       "output_type": "pyout",
       "prompt_number": 54,
       "text": [
        "array([[ 0.,  0.],\n",
        "       [ 0.,  0.],\n",
        "       [ 0.,  0.]])"
       ]
      }
     ],
     "prompt_number": 54
    },
    {
     "cell_type": "code",
     "collapsed": false,
     "input": [
      "# To create N*M numpy array with all ones\n",
      "b = np.ones((N,M))\n",
      "b"
     ],
     "language": "python",
     "metadata": {},
     "outputs": [
      {
       "metadata": {},
       "output_type": "pyout",
       "prompt_number": 53,
       "text": [
        "array([[ 1.,  1.],\n",
        "       [ 1.,  1.],\n",
        "       [ 1.,  1.]])"
       ]
      }
     ],
     "prompt_number": 53
    },
    {
     "cell_type": "code",
     "collapsed": false,
     "input": [
      "# Dot product\n",
      "a = np.array([1,2,3,4])\n",
      "b = np.array([1,1,1,1])\n",
      "dot = np.dot(a,b)\n",
      "dot"
     ],
     "language": "python",
     "metadata": {},
     "outputs": [
      {
       "metadata": {},
       "output_type": "pyout",
       "prompt_number": 57,
       "text": [
        "10"
       ]
      }
     ],
     "prompt_number": 57
    },
    {
     "cell_type": "heading",
     "level": 2,
     "metadata": {},
     "source": [
      "Make a Plot"
     ]
    },
    {
     "cell_type": "markdown",
     "metadata": {},
     "source": [
      "<p>\n",
      "To make a plot in python, we have to import the matplot.pyplot package.\n",
      "<br/>\n",
      "To find help please visit: \n",
      "<br/>\n",
      "http://matplotlib.org/\n",
      "Here an example of plot sin wave is provided. \n",
      "<p/>"
     ]
    },
    {
     "cell_type": "code",
     "collapsed": false,
     "input": [
      "import matplotlib.pyplot as plt    # import the package\n",
      "xAxis = np.linspace(0.0, 2*np.pi, num=100)  # Create an array with 100 element from 0 to 2*pi\n",
      "yAxis = np.sin(xAxis)                     # Calculate the y axis\n",
      "plt.plot(xAxis, yAxis)                   # plot sin wave"
     ],
     "language": "python",
     "metadata": {},
     "outputs": [
      {
       "metadata": {},
       "output_type": "pyout",
       "prompt_number": 62,
       "text": [
        "[<matplotlib.lines.Line2D at 0x105ceae50>]"
       ]
      },
      {
       "metadata": {},
       "output_type": "display_data",
       "png": "iVBORw0KGgoAAAANSUhEUgAAAXoAAAEACAYAAAC9Gb03AAAABHNCSVQICAgIfAhkiAAAAAlwSFlz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\n9CIiEU6FXkQkwv0/zNTaVDOmiPoAAAAASUVORK5CYII=\n",
       "text": [
        "<matplotlib.figure.Figure at 0x1058460d0>"
       ]
      }
     ],
     "prompt_number": 62
    },
    {
     "cell_type": "markdown",
     "metadata": {},
     "source": [
      "<p>\n",
      "    In ipython notebook with --pylab inline flag, it allows you make a plot in the browser. But you can not interactive with it. \n",
      "    <br/>\n",
      "    If you are not in the envirnoment of ipython notebook. To make a plot you have to do:\n",
      "<p/>"
     ]
    },
    {
     "cell_type": "code",
     "collapsed": false,
     "input": [
      "plt.figure(1)     # Make a window for the plot\n",
      "plt.plot(xAxis,yAxis)    # Make plot\n",
      "plt.show()               # show the plot"
     ],
     "language": "python",
     "metadata": {},
     "outputs": [
      {
       "metadata": {},
       "output_type": "display_data",
       "png": "iVBORw0KGgoAAAANSUhEUgAAAXoAAAEACAYAAAC9Gb03AAAABHNCSVQICAgIfAhkiAAAAAlwSFlz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\n9CIiEU6FXkQkwv0/zNTaVDOmiPoAAAAASUVORK5CYII=\n",
       "text": [
        "<matplotlib.figure.Figure at 0x105c8bdd0>"
       ]
      }
     ],
     "prompt_number": 63
    },
    {
     "cell_type": "markdown",
     "metadata": {},
     "source": [
      "<p>\n",
      "    To add label to the plot.\n",
      "<p/>"
     ]
    },
    {
     "cell_type": "code",
     "collapsed": false,
     "input": [
      "plt.xlabel(\"x axis\")\n",
      "plt.ylabel(\"y axis\")\n",
      "plt.title(\"Sin Wave\")\n",
      "plt.plot(xAxis, yAxis)"
     ],
     "language": "python",
     "metadata": {},
     "outputs": [
      {
       "metadata": {},
       "output_type": "pyout",
       "prompt_number": 64,
       "text": [
        "[<matplotlib.lines.Line2D at 0x105f3d9d0>]"
       ]
      },
      {
       "metadata": {},
       "output_type": "display_data",
       "png": "iVBORw0KGgoAAAANSUhEUgAAAYkAAAEZCAYAAABiu9n+AAAABHNCSVQICAgIfAhkiAAAAAlwSFlz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\n5t5TrwAAAABJRU5ErkJggg==\n",
       "text": [
        "<matplotlib.figure.Figure at 0x105cffe10>"
       ]
      }
     ],
     "prompt_number": 64
    },
    {
     "cell_type": "markdown",
     "metadata": {},
     "source": [
      "<p>\n",
      "    To shut down python interface:\n",
      "    <br/>\n",
      "    <font color=\"blue\"><b>Ctrl+D </b></font>or <font color=\"blue\"><b>exit( )</b></font>\n",
      "    <br/>\n",
      "    Stop ipython notebook server\n",
      "    Have fun with python, if you have a/ny question please let us know or visit:  http://lmgtfy.com/ \n",
      "<p/>"
     ]
    }
   ],
   "metadata": {}
  }
 ]
}=