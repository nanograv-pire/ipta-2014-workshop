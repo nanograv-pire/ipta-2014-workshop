{
 "metadata": {
  "name": "",
  "signature": "sha256:982b01ba54a3f94e6ad0685340449b5b83a4bc4296fdfbf9c4cbae275c18c61f"
 },
 "nbformat": 3,
 "nbformat_minor": 0,
 "worksheets": [
  {
   "cells": [
    {
     "cell_type": "markdown",
     "metadata": {},
     "source": [
      "<h1>Data analysis with sinusoid of unknown amplitude in known Gaussian noise</h1>\n",
      "\n",
      "<p>\n",
      "    The problem you are faced with is detecting and characterizing a sinusoid\n",
      "    in Gaussian noise. In the absence of a signal you will place upper limits\n",
      "    on the amplitude of a possible sinusoid in the data. This is a standard \n",
      "    and simple problem in data analysis that will give you a flavor of the data\n",
      "    analysis problems and techniques used in real PTA data analysis. In fact, \n",
      "    nearly the entire GW detection problem is framed in this way: Is there a\n",
      "    detectable GW (be it stochastic, continuous, or burst) present in the puslar\n",
      "    timing residual data? The challenge is coming up with robust and efficient \n",
      "    analysis methods that take into account all of the intracacies of real puslar\n",
      "    timing data.\n",
      "    <br/><br/>\n",
      "    Dealing with real or simulated PTA data will only cause additional complications\n",
      "    and will deter you from learning the basics of data analysis. In this activity \n",
      "    you will explore both frequentist and Bayesian techniques for parameter estimation, \n",
      "    detection, and setting upper limits. <br/><br/>\n",
      "    We assume that the data $d$ is composed of a signal $s$ plus additive white gaussian \n",
      "    noise $n$, that is\n",
      "    $$\n",
      "    d=s+n.\n",
      "    $$\n",
      "    Since $n$ is assumed to be white and Gaussian, its probability distribution is a product of\n",
      "    Gaussians\n",
      "    $$\n",
      "    p(n)=\\frac{1}{\\sqrt{2 \\pi \\sigma^2}}\\prod_i\\exp\\left(-\\frac{n_i^2}{2\\sigma^2}\\right),\n",
      "    $$\n",
      "    where $n_i$ is the noise at time $t_i$ and $\\sigma$ is the standard deviation of the noise. \n",
      "    We can now write this in terms of the data using $n=d-s$, therefore the likelihood function\n",
      "    for the data given the signal parameters, $\\lambda$ is\n",
      "    $$\n",
      "    p(d|\\lambda)=\\frac{1}{\\sqrt{2 \\pi \\sigma^2}}\\prod_i\\exp\\left(-\\frac{(d_i-s_i)^2}{2\\sigma^2}\\right).\n",
      "    $$\n",
      "    For our purposes we will deal with the log of the likelihood ratio. The likelihood ratio is the \n",
      "    likelihood function above divided by the likelihood that the signal is pure noise (i.e, remove\n",
      "    the signal $s$ from the model). We will also introduce a new notation and write the log-likelihood \n",
      "    ratio\n",
      "    $$\n",
      "    \\log\\Lambda=(d|s)-\\frac{1}{2}(s|s),\n",
      "    $$\n",
      "    where the inner product of two timeseries $x$ and $y$, for example, is $(x|y)=\\sum_i x_iy_i/\\sigma^2$.\n",
      "    In our case the signal $s$ is just a sinusoid, $s(t,A,f) = A\\sin(2\\pi ft)$. For simplicity we will \n",
      "    assume that we know the frequency (or that we are doing a \"target\" search for a certain frequency) \n",
      "    of the sinusoid and the only unknown parameter is the amplitude.\n",
      "    <br/><br/>\n",
      "    Your first exercise will be to create a simulated dataset with white noise and a small sinusoid. \n",
      "    <br/><br/>\n",
      "    Good luck!\n",
      "\n",
      "</p>"
     ]
    },
    {
     "cell_type": "code",
     "collapsed": false,
     "input": [
      "from __future__ import division\n",
      "import numpy as np\n",
      "import matplotlib.pyplot as plt\n",
      "import worksheet_utils as wu\n",
      "from scipy.interpolate import interp1d"
     ],
     "language": "python",
     "metadata": {},
     "outputs": [],
     "prompt_number": 1
    },
    {
     "cell_type": "markdown",
     "metadata": {},
     "source": [
      "<h2>0. Derving the log-likelihod ratio</h2>\n",
      "\n",
      "<p>\n",
      "    Above we have written down the log of the likehood ratio which will be used throughout this \n",
      "    entire worksheet. To get yourself familiar with the notation, derive the log-likelihood ratio\n",
      "    defined above. \n",
      "    <br/><br/>\n",
      "    <em>Hint</em>: It will be easier to take the logarithm of each likelihood function first and\n",
      "        then take the difference.\n",
      "</p>"
     ]
    },
    {
     "cell_type": "markdown",
     "metadata": {},
     "source": [
      "<h2>1. Simulating the data set. </h2>\n",
      "\n",
      "<p>\n",
      "    Create a 5 year timeseries of 130 points using `numpy` function <strong>`linspace()`</strong> beginning at 0. \n",
      "    Then, use the <strong>`simData()`</strong> function. To simulate some fake data with a standard devitaion of \n",
      "    100 ns and a signal with amplitude 60 ns and frequency of $10^{-8}$ Hz.\n",
      "    <br/><br/>\n",
      "    Then use the `matplotlib` function __`plot()`__ to plot the data vs. time and be sure to label the axes.\n",
      "</p>"
     ]
    },
    {
     "cell_type": "code",
     "collapsed": false,
     "input": [
      "# simulated data\n",
      "freq = 1e-8\n",
      "sigma = 1e-7\n",
      "t = np.linspace(0, 3.16e7*5, 130)\n",
      "A = 6e-8\n",
      "\n",
      "# call function to simulate data\n",
      "data = wu.simData(t, A, freq, sigma)\n",
      "\n",
      "# can also get signal individually\n",
      "sig = wu.signal(t, A, freq)\n",
      "\n",
      "# plot\n",
      "plt.plot(t, data)\n",
      "plt.plot(t, sig, lw=2, color='r', ls='--')\n",
      "plt.xlabel('Time [s]')\n",
      "plt.ylabel('Data [s]')\n",
      "plt.grid()"
     ],
     "language": "python",
     "metadata": {},
     "outputs": [
      {
       "metadata": {},
       "output_type": "display_data",
       "png": "[encoded data removed]",
       "text": [
        "<matplotlib.figure.Figure at 0x108a8ad50>"
       ]
      }
     ],
     "prompt_number": 2
    },
    {
     "cell_type": "markdown",
     "metadata": {},
     "source": [
      "<h2>2. Parameter Estimation: Estimating the Amplitude</h2>\n",
      "\n",
      "<p>\n",
      "    In frequentist statistics, one is interested in defining some estimator for the true signal parameters.\n",
      "    A common way to do this is to find the parameters that maximize the likelihood. These are known as Maximum\n",
      "    Likelihood Estimators (MLEs). One can then place confidence intervals on the parameter of interest through the \n",
      "    <em>Neyman method</em>: define some statistic $x$ that is a function of the data $d$ (for example the MLE of the\n",
      "    unknown signal parameters). Because $x$ is derived from $d$, the probability distribution (likelihood) $p(d|\\lambda)$\n",
      "    can be re-expressed as a probability distribution $p(x|\\lambda)$. Then, for each value of $\\lambda$, we produce an \n",
      "    interval $(x_1,x_2)$ such that\n",
      "    $$\n",
      "    \\alpha = \\int_{x_1}^{x_2}dx\\,\\, p(x|\\lambda)\n",
      "    $$\n",
      "    The intervals that depend on $\\lambda$ define a belt in the $\\lambda-x$ plane and for any <em>observed</em> value\n",
      "    of $x$ in the experiment, the confidence interval on $\\lambda$ constitutes the values of $\\lambda$ that exist on the \n",
      "    belt at that fixed value of $x$. (See additional handout for more details)\n",
      "    <br/><br/>\n",
      "    In Bayesian statistics, one is interested finding the probability distribution function for the unknown parameters given\n",
      "    that we have some observed data. To get a point estimate of the unkwnown parameters we may use the <em>maximum a-posteriori</em>\n",
      "    (MAP) parameters, that is, the maximum of the posterior probability distribution. A credible interval (Bayesian version\n",
      "    of confidence intervals) can be constructed directly from the posterior distribution $p(\\lambda|d)$ as\n",
      "    $$\n",
      "    \\alpha = \\int_{\\lambda_1}^{\\lambda_2}d\\lambda\\,\\, p(\\lambda|d),\n",
      "    $$\n",
      "    where $\\lambda_1$ and $\\lambda_2$ defined the lower and upper bounds on our parameter $\\lambda$.\n",
      "</p>"
     ]
    },
    {
     "cell_type": "markdown",
     "metadata": {},
     "source": [
      "<h3>2.1 MLE for the amplitude</h3>\n",
      "\n",
      "<p>\n",
      "    As written above, the log-likelihood ratio is \n",
      "    $$\n",
      "    \\log\\Lambda=(d|s)-\\frac{1}{2}(s|s).\n",
      "    $$\n",
      "    If we let $s(t)=A\\sin(2\\pi f t)$ and $\\tilde{s}(t)=\\sin(2\\pi f t)$, then $s(t)=A\\tilde{s}(t)$. \n",
      "    Re-writing the log-likehood ratio, we obtain\n",
      "    $$\n",
      "    \\log\\Lambda=A(d|\\tilde{s})-\\frac{A^2}{2}(\\tilde{s}|\\tilde{s}).\n",
      "    $$\n",
      "    We can now maximize the likehood function over the unknown amplitude, $A$, as follows\n",
      "    $$\n",
      "    0 = \\frac{\\partial \\log\\Lambda}{\\partial A} = (d|\\tilde{s}) -\\hat{A}(\\tilde{s}|\\tilde{s}),\n",
      "    $$\n",
      "    where $\\hat{A}$ is the MLE for $A$. Solving for $\\hat{A}$, we obtain\n",
      "    $$\n",
      "    \\hat{A}=\\frac{(d|\\tilde{s})}{(\\tilde{s}|\\tilde{s})}.\n",
      "    $$\n",
      "    The variance on the maximum likelihood estimator is then\n",
      "    $$\n",
      "    \\sigma_{\\hat{A}}^2 = \\langle \\hat{A}\\hat{A} \\rangle -\\langle \\hat{A} \\rangle^2 = \\frac{1}{(\\tilde{s}|\\tilde{s})},\n",
      "    $$\n",
      "    where $\\langle  \\rangle$ denotes the <em>expectation value</em> or average over many realizations of data.\n",
      "<ol>\n",
      "    <li>\n",
      "        Write a function that reads in the data, the time samples, the frequency of the sine wave and the \n",
      "        standard deviation of the noise as arguments and outputs the MLE and standard deviation of $A$.<br/>\n",
      "        <span style=\"color:red\">For intermediate/expert level: Derive the variance of $\\hat{A}$. <em>Hint:</em> \n",
      "        $\\langle (n|\\tilde{s}) \\rangle=0$ and $\\langle (n|\\tilde{s})(n|\\tilde{s}) \\rangle=(\\tilde{s}|\\tilde{s})$.</span>\n",
      "    </li>\n",
      "    <li>\n",
      "        Use this function to compute $\\hat{A}$ for our simulated data set.\n",
      "    </li>   \n",
      "    <li>Does the answer you get make sense? What is the percent error?</li>\n",
      "</ol>\n",
      "</p>   "
     ]
    },
    {
     "cell_type": "code",
     "collapsed": false,
     "input": [
      "#  maximum likelihood estimator for A\n",
      "def maxLikeA(data, t, f, sigma):\n",
      "    sig = wu.signal(t, 1, f)\n",
      "    return wu.innerProduct(data, sig, sigma)/wu.innerProduct(sig, sig, sigma), np.sqrt(1/wu.innerProduct(sig, sig, sigma))"
     ],
     "language": "python",
     "metadata": {},
     "outputs": [],
     "prompt_number": 3
    },
    {
     "cell_type": "code",
     "collapsed": false,
     "input": [
      "Ahat, stdAhat = maxLikeA(data, t, freq, sigma)\n",
      "print 'MLE for A = {0} +/ {1}'.format(Ahat, stdAhat)\n",
      "print 'True value of A = {0}'.format(A)"
     ],
     "language": "python",
     "metadata": {},
     "outputs": [
      {
       "output_type": "stream",
       "stream": "stdout",
       "text": [
        "MLE for A = 6.27087494212e-08 +/ 1.27124648726e-08\n",
        "True value of A = 6e-08\n"
       ]
      }
     ],
     "prompt_number": 4
    },
    {
     "cell_type": "markdown",
     "metadata": {},
     "source": [
      "<h3>2.2 Posterior distribution for the amplitude</h3>\n",
      "\n",
      "<ol>\n",
      "    <li>\n",
      "        Write a function that reads in the data, the time samples, the amplitude of the sine wave, the frequency of the sine wave\n",
      "        and the standard deviation of the noise and returns the log-likelihood ratio.\n",
      "    </li>\n",
      "    <li>\n",
      "        Create a vector of trial amplitudes in the range $[0, 5\\times 10^{-7}]$ with length 1000 using\n",
      "        the __`np.linspace()`__ function. You can play around with the length of the array and the ranges\n",
      "        once you have done this once.\n",
      "    </li>    \n",
      "    <li>\n",
      "        Loop over these amplitude and compute the log-likelihood ratio for each one and store\n",
      "        it in an array.\n",
      "    </li>   \n",
      "    <li>\n",
      "        Use the __`plt.plot()`__ function to plot the likelihood (not the log likelihood) vs. the \n",
      "        Amplitude Array.\n",
      "    </li>    \n",
      "    <li>\n",
      "        Determine the MAP value of $A$ by using the __`np.argmax()`__ function to find the array index\n",
      "        of the maximum likelihood value. You can then use this array index to find the corresponding\n",
      "        value of $A$ from the vector of trial amplitudes that you created in step 2.\n",
      "    </li>    \n",
      "    <li>\n",
      "        Determine the standard deviation of $A$. <em>Hint:</em> recall that the statistical definition\n",
      "        of variance on a parameter $x$ whose pdf is $p(x)$ is $\\sigma^2_x=\\langle x^2 \\rangle - \\langle x \\rangle^2 \n",
      "        = \\int dx \\, x^2\\,p(x) - \\left(\\int dx\\, x\\, p(x)\\right)^2$\n",
      "    </li>    \n",
      "    <li>\n",
      "        Plot the likelihood vs $A$. Plot a vertical line denoting the true value of $A$ with the __`plt.axvline()`__ \n",
      "        function.\n",
      "    </li>\n",
      "</ol>\n",
      "    "
     ]
    },
    {
     "cell_type": "code",
     "collapsed": false,
     "input": [
      "# likelihood function\n",
      "def LogLikelihood(data, t, A, f, sigma):\n",
      "    sig = wu.signal(t, A, f)\n",
      "    return wu.innerProduct(data, sig, sigma) - 0.5 * wu.innerProduct(sig, sig, sigma)"
     ],
     "language": "python",
     "metadata": {},
     "outputs": [],
     "prompt_number": 5
    },
    {
     "cell_type": "code",
     "collapsed": false,
     "input": [
      "N = 1000\n",
      "Amps = np.linspace(0, 5e-7, N)\n",
      "llike = np.zeros(N)\n",
      "for ii in range(N):\n",
      "    llike[ii] = LogLikelihood(data, t, Amps[ii], freq, sigma)\n",
      "\n",
      "like = np.exp(llike)  \n",
      "mapA = Amps[np.argmax(like)]\n",
      "p = like/like.sum()\n",
      "stdA = np.sqrt(np.sum(Amps**2*p) - np.sum(Amps*p)**2)\n",
      "print 'MAP value for A = {0} +/ {1}'.format(mapA, stdA)\n",
      "print 'True value of A = {0}'.format(A)\n",
      "\n",
      "plt.plot(Amps, like, lw=2)\n",
      "plt.axvline(A, color='r', lw=2, ls='--')\n",
      "plt.grid()\n",
      "plt.xlim(0, 1.3e-7)\n",
      "plt.xlabel('Sinusoid Amplitude')\n",
      "plt.ylabel('p(A|d)')"
     ],
     "language": "python",
     "metadata": {},
     "outputs": [
      {
       "output_type": "stream",
       "stream": "stdout",
       "text": [
        "MAP value for A = 6.25625625626e-08 +/ 1.27124056863e-08\n",
        "True value of A = 6e-08\n"
       ]
      },
      {
       "metadata": {},
       "output_type": "pyout",
       "prompt_number": 6,
       "text": [
        "<matplotlib.text.Text at 0x108bba250>"
       ]
      },
      {
       "metadata": {},
       "output_type": "display_data",
       "png": "[encoded data removed]",
       "text": [
        "<matplotlib.figure.Figure at 0x108bb78d0>"
       ]
      }
     ],
     "prompt_number": 6
    },
    {
     "cell_type": "markdown",
     "metadata": {},
     "source": [
      "<h3>2.3 Frequentist Confidence Interval on Amplitude Parameter</h3>\n",
      "\n",
      "<p>\n",
      "    As we show above, contructing a frequentist confidence interval involves simulating several realizations of data with different values of the sinusoid amplitude. Here we will construct a function to do just that.\n",
      "</p>\n",
      "\n",
      "<ol>\n",
      "    <li>\n",
      "        Create a vector of trial amplitudes in the range $[1\\times 10^{-8}, 3\\times 10^{-7}]$ with length 100 using\n",
      "        the __`linspace()`__ function.\n",
      "    </li>    \n",
      "    <li>\n",
      "        Loop over these amplitudes as above but now add a second inner loop to simulate different <em>\n",
      "        realizations</em> of the data. Use __`simData()`__ function to simulate the new data. For each\n",
      "        amplitude do 1000 realizations of data with that amplitude. (See code block below for hints)\n",
      "    </li>    \n",
      "    <li>\n",
      "        The goal here is to compute the MLE for $A$ for each realizatin of data and then produce the\n",
      "        pdf of $\\hat{A}$ at each injected amplitude. Then use the \n",
      "        __`confinterval()`__ function to define the upper and lower 1-sigma bounds on $\\hat{A}$ for\n",
      "        each realization of data at a given value of $\\hat{A}$. Store these 1-sigma lower and upper\n",
      "        bounds in arrays. This will create the band through the $A$-$\\hat{A}$ space as we saw in the\n",
      "        talk. (See code block below for hints)\n",
      "    </li>    \n",
      "    <li>\n",
      "        After you have looped over all values of the amplitude. Use the __`interp1d()`__ function to\n",
      "        interpolate our data. This way we create an interpolating function so that we can evalueate the\n",
      "        confidence interval on $A$ from our confidence belt and our measurement of $\\hat{A}$. \n",
      "    </li>    \n",
      "</ol>"
     ]
    },
    {
     "cell_type": "code",
     "collapsed": false,
     "input": [
      "# number of amplitudes\n",
      "N = 100\n",
      "Amps = np.linspace(1e-8, 3e-7, N)\n",
      "\n",
      "# number of realizations\n",
      "Nreal = 1000\n",
      "\n",
      "# loop over amplitudes\n",
      "xmin = np.zeros(N)\n",
      "xmax = np.zeros(N)\n",
      "for ii in range(N):\n",
      "    testAmp = Amps[ii]\n",
      "    \n",
      "    # loop over realizations\n",
      "    testAhat = np.zeros(Nreal)\n",
      "    for jj in range(Nreal):\n",
      "        \n",
      "        # simulate data\n",
      "        newx = wu.simData(t, testAmp, freq, sigma)\n",
      "        testAhat[jj], tmp = maxLikeA(newx, t, freq, sigma)\n",
      "    \n",
      "    # 1-sigma confidence levels on Ahat   \n",
      "    xmin[ii], xmax[ii] = wu.confinterval(testAhat, sigma=0.68, )\n"
     ],
     "language": "python",
     "metadata": {},
     "outputs": [],
     "prompt_number": 7
    },
    {
     "cell_type": "code",
     "collapsed": false,
     "input": [
      "# interpolate to get inverse function for the injected amplitude\n",
      "# as a function of the confidence regions on Ahat\n",
      "interplow = interp1d(xmax, Amps)\n",
      "interphigh = interp1d(xmin, Amps)\n",
      "\n",
      "plt.plot(xmin, Amps, 'k')\n",
      "plt.plot(xmax, Amps, 'k')\n",
      "plt.axvline(Ahat, lw=2, color='k', ls='--')\n",
      "plt.axhline(interplow(Ahat), lw=2)\n",
      "plt.axhline(interphigh(Ahat), lw=2)\n",
      "plt.grid()\n",
      "plt.xlabel(r'$\\hat{A}$', fontsize=16)\n",
      "plt.ylabel(r'$A$', fontsize=16)\n",
      "\n",
      "print '1-sigma upper and lower bounds on A: {0} {1}'.format(interplow(Ahat), interphigh(Ahat))\n",
      "print '1-sigma upper and lower bounds on Ahat: {0} {1}'.format(Ahat-stdAhat, Ahat+stdAhat )"
     ],
     "language": "python",
     "metadata": {},
     "outputs": [
      {
       "output_type": "stream",
       "stream": "stdout",
       "text": [
        "1-sigma upper and lower bounds on A: 5.11251933625e-08 7.63524233503e-08\n",
        "1-sigma upper and lower bounds on Ahat: 4.99962845486e-08 7.54212142939e-08\n"
       ]
      },
      {
       "metadata": {},
       "output_type": "display_data",
       "png": "[encoded data removed]",
       "text": [
        "<matplotlib.figure.Figure at 0x108a97190>"
       ]
      }
     ],
     "prompt_number": 8
    },
    {
     "cell_type": "markdown",
     "metadata": {},
     "source": [
      "<h3> 2.4 Bayesian Credible Interval on Amplitude Parameter</h3>\n",
      "\n",
      "<p>\n",
      "    As was discussed in the talk and have shown above, Bayesian credible intervals use\n",
      "    the likelihood function directly to measure our confidence, or degree of belief\n",
      "    in our measurement of the Amplitude parameter. In practice, this is much less \n",
      "    complicated than constructing frequentist confidence intervals. However in\n",
      "    more complex data analysis problems with many unknown parameters, just constructing\n",
      "    the full likelihood function is very difficult or at least computatinally demanding.\n",
      "</p>\n",
      "<ol>\n",
      "    <li>\n",
      "        Repeat steps 1-3 from exercise 2.2 to construct the likelihood function for $A$.\n",
      "    </li>    \n",
      "    <li>\n",
      "        Write down an algorithm for computing the Bayesian credible region. You do not have\n",
      "        to write actual code here unless you feel comfortable. Simply think about how you \n",
      "        would set up the problem. <em>Hint:</em> Remember, the desired integral is        \n",
      "        $$\n",
      "        \\alpha = \\int_{\\lambda_1}^{\\lambda_2}d\\lambda\\,\\, p(\\lambda|d)\n",
      "        $$\n",
      "        but it can be re-written as        \n",
      "        $$\n",
      "        \\frac{1-\\alpha}{2} = \\int_{-\\infty}^{\\lambda_1}d\\lambda\\,\\, p(\\lambda|d)\n",
      "        $$        \n",
      "        and        \n",
      "        $$\n",
      "        \\frac{1+\\alpha}{2} = \\int^{\\infty}_{\\lambda_2}d\\lambda\\,\\, p(\\lambda|d)\n",
      "        $$\n",
      "    </li>    \n",
      "    <li>\n",
      "        Use the pre-made function __`confinterval_like()`__ to construct the 1-sigma upper\n",
      "        and lower bounds on $A$.\n",
      "    </li>    \n",
      "    <li>\n",
      "        Plot the likelihood function vs. $A$ along with the 1-sigma upper and lower bounds, \n",
      "        again using the __`plt.plot()`__ and __`plt.axvline()`__ functions.\n",
      "    </li>\n",
      "</ol>"
     ]
    },
    {
     "cell_type": "code",
     "collapsed": false,
     "input": [
      "N = 1000\n",
      "Amps = np.linspace(0, 5e-7, N)\n",
      "llike = np.zeros(N)\n",
      "for ii in range(N):\n",
      "    llike[ii] = LogLikelihood(data, t, Amps[ii], freq, sigma)\n",
      "\n",
      "like = np.exp(llike)  \n",
      "xmin, xmax = wu.confinterval_like(like, Amps)\n",
      "print '1-sigma upper and lower bounds on A: {0} {1}'.format(xmin, xmax)\n",
      "print 'True value of A = {0}'.format(A)\n",
      "\n",
      "xmin, xmax = wu.confinterval_like(like, Amps)\n",
      "\n",
      "plt.plot(Amps, like, lw=2)\n",
      "plt.axvline(A, color='r', lw=2, ls='--')\n",
      "plt.axvline(xmin, color='r', lw=2, ls='-')\n",
      "plt.axvline(xmax, color='r', lw=2, ls='-')\n",
      "plt.grid()\n",
      "plt.xlim(0, 1.3e-7)\n",
      "plt.xlabel('Sinusoid Amplitude')\n",
      "plt.ylabel('p(A|d)')"
     ],
     "language": "python",
     "metadata": {},
     "outputs": [
      {
       "output_type": "stream",
       "stream": "stdout",
       "text": [
        "1-sigma upper and lower bounds on A: 5.00500500501e-08 7.55755755756e-08\n",
        "True value of A = 6e-08\n"
       ]
      },
      {
       "metadata": {},
       "output_type": "pyout",
       "prompt_number": 9,
       "text": [
        "<matplotlib.text.Text at 0x108be93d0>"
       ]
      },
      {
       "metadata": {},
       "output_type": "display_data",
       "png": "[encoded data removed]",
       "text": [
        "<matplotlib.figure.Figure at 0x108bdb990>"
       ]
      }
     ],
     "prompt_number": 9
    },
    {
     "cell_type": "markdown",
     "metadata": {},
     "source": [
      "<h2>3. Hypothesis Testing: Detecting the Signal</h2>\n",
      "\n",
      "<p>\n",
      "    Above, when performing parameter estimation we have taken for granted that there was an <em>detectable</em>\n",
      "    signal in the data. Now we turn to the problem of detection, that is, how can we confidently say that there\n",
      "    truly is a signal in the data. In the frequentist framework, detection significance is usually based on the\n",
      "    false alarm probability (sometimes referred to as FAP, I know hilarious right?), that is, the probability \n",
      "    that we would (falsely) claim a detection when that data consists of only noise. Henceforth, we refer to this\n",
      "    noise only case as the <em>null hypothesis</em> and we denote it symbolically as $H_0$. On the other hand we\n",
      "    refer to the case where the data does contain a signal as the <em>signal hypythesis</em> and we denote it symbolically\n",
      "    as $H_1$. In the Bayesian framework, we actually compute the <em>evidence</em> for the signal and null hypotheses and\n",
      "    compare them via the Bayes factor. \n",
      "</p>\n",
      "\n",
      "<p>\n",
      "    In this next section, we will apply these techniques to our simple problem of the sinusoid with unknown amplitude.\n",
      "</p>"
     ]
    },
    {
     "cell_type": "markdown",
     "metadata": {},
     "source": [
      "<h3>3.1 Frequentist Hypothesis Testing</h3>\n",
      "\n",
      "<p>\n",
      "    The false alarm probability is defined as   \n",
      "    $$\n",
      "    {\\rm FAP} = \\int_{\\hat x}^{\\infty} dx\\,\\, p(x|\\lambda,H_0),\n",
      "    $$    \n",
      "    where $\\hat{x}$ is our measured test statistic, $\\lambda$ is the \n",
      "    parameter of interest, and $p(x|\\lambda,H_0)$ is the pdf of $x$ under the null \n",
      "    hypothesis. The dependence on the actual data, comes in the value of $\\hat{x}$. Essentially what we are doing\n",
      "    is we are testing whether our point extimate of $x$ is consistent with a value of $x$ that we would measure if\n",
      "    the data contains only noise. So to claim a detection, we want to reject the null hypothesis, that is, we want \n",
      "    $\\hat{x}$ to be <em>inconsistent</em> with the distribution of $x$ under the null hypothesis and the false alarm\n",
      "    probability quantifies that inconsistency.\n",
      "</p>\n",
      "\n",
      "<p>\n",
      "    The value of the false alarm probability that one requires for detection is completely problem dependent. In some\n",
      "    cases we would be ok with a value of 5% (i.e., we make a false detection 5% of the time). For example, many of the\n",
      "    social sciences use this value. However, for our purposes we want to be much more confident so we will require \n",
      "    $FAP < 10^{-4}$ for a detection, that is, there is a 1 in 10,000 chance that we have made a false detection. It is\n",
      "    very important to note here that just because we can rule out the null hypothesis with $1-FAP$ confidence, does \n",
      "    <em>not</em> mean that the signal hypothesis is true with $1-FAP$ confidence. In fact, frequentist detection methods \n",
      "    make no statetments about our confidence in the signal model itself, only that a measurement made under the signal \n",
      "    hypothesis is inconsistent with the null hypothesis at the $1-FAP$ level.\n",
      "</p>\n",
      "\n",
      "<p>\n",
      "    Now we want to set the value of $\\hat{x}$ that would be required for us to have $FAP=10^{-4}$. \n",
      "</p>\n",
      "\n",
      "<ol>    \n",
      "    <li>\n",
      "        First, we want to construct our detection statistic. The <a href=\"http://en.wikipedia.org/wiki/Neyman\u2013Pearson_lemma\">\n",
      "        Neyman-Pearson lemma</a> states that the optimal detection statistic is the likelihood ratio. Use our expression for\n",
      "        the log-likelihood ratio and $\\hat{A}$ from exercise 2.1 to construct the maximum likelihood ratio. <em>Hint:</em>\n",
      "        you should get        \n",
      "        $$\n",
      "        \\log \\Lambda_{\\rm max} = \\frac{1}{2}\\frac{(d|\\tilde s)^2}{(\\tilde s|\\tilde s)}\n",
      "        $$\n",
      "    </li>    \n",
      "    <li>\n",
      "       As we did for the likelihood ratio. Write a function that reads in the data, the time samples, the frequency \n",
      "       of the sine wave and the standard deviation of the noise and returns the maximized log-likelihood ratio.\n",
      "    </li>    \n",
      "    <li>\n",
      "        Now we want to construct the pdf of the maximum log-likelihood ratio under the null hypothesis. As we did\n",
      "        in exercise 2.3, we want to loop over many realizations of data and compute the max log-likelihood ratio,\n",
      "        only this time we simulate only noise. Simulate 100000 realizations of data and store the maximum log-likelihood\n",
      "        values in an array and histogram the results with 50 bins using the __`plt.hist()`__ function.\n",
      "    </li>    \n",
      "    <li>\n",
      "        Now that we have the distribution $p(x|\\lambda,H_0)$, we want to determine the value of $\\hat{x}=\\hat{x}_{\\rm thresh}$\n",
      "        that will give a false alarm probability of $10^{-4}$. We have already build all of the machinery we require to determine\n",
      "        $\\hat{x}_{\\rm thresh}$. <em>Hint:</em> If we re-write the FAP integral, we can use the __`confinterval()`__ function\n",
      "        with the argument onesided=True. Please ask for help if you are stuck here.\n",
      "        <br/>\n",
      "        <span style='color:red'>Expert level: This distribution can be computed analytically. Do you know what it is?</span>\n",
      "    </li>    \n",
      "    <li>\n",
      "        Use our original data with a signal to determine if we have made a detection.\n",
      "    </li>    \n",
      "</ol>"
     ]
    },
    {
     "cell_type": "code",
     "collapsed": false,
     "input": [
      "# maximum likelihood function\n",
      "def maxLogLikelihood(data, t, f, sigma):\n",
      "    sig = wu.signal(t, 1, f)\n",
      "    return wu.innerProduct(data, sig, sigma)**2 / wu.innerProduct(sig, sig, sigma)"
     ],
     "language": "python",
     "metadata": {},
     "outputs": [],
     "prompt_number": 10
    },
    {
     "cell_type": "code",
     "collapsed": false,
     "input": [
      "# number of realizations\n",
      "Nreal = 100000\n",
      "\n",
      "# loop over realizations\n",
      "maxLike0 = np.zeros(Nreal)\n",
      "for jj in range(Nreal):\n",
      "        \n",
      "    # simulate data\n",
      "    newx = wu.simData(t, 0, freq, sigma)\n",
      "    maxLike0[jj] = maxLogLikelihood(newx, t, freq, sigma)"
     ],
     "language": "python",
     "metadata": {},
     "outputs": [],
     "prompt_number": 11
    },
    {
     "cell_type": "code",
     "collapsed": false,
     "input": [
      "plt.hist(maxLike0, 50)\n",
      "\n",
      "FAP=1e-4\n",
      "tmp, thresh = wu.confinterval(maxLike0, onesided=True, sigma=1-FAP)\n",
      "\n",
      "plt.axvline(thresh, lw=2, color='r')\n",
      "plt.xlabel(r'$\\log\\Lambda_{\\rm max}$', fontsize=16)\n",
      "plt.grid()\n",
      "\n",
      "print 'Threshold for detection = {0}'.format(thresh)\n",
      "\n",
      "# compute the maximum log likelihood ratio for the \"real\" data\n",
      "maxLike = maxLogLikelihood(data, t, freq, sigma)\n",
      "print 'Maximum likelihood ratio for real data: {0}'.format(maxLike)"
     ],
     "language": "python",
     "metadata": {},
     "outputs": [
      {
       "output_type": "stream",
       "stream": "stdout",
       "text": [
        "Threshold for detection = 15.0121192528\n",
        "Maximum likelihood ratio for real data: 24.3330611765\n"
       ]
      },
      {
       "metadata": {},
       "output_type": "display_data",
       "png": "[encoded data removed]",
       "text": [
        "<matplotlib.figure.Figure at 0x108bd0450>"
       ]
      }
     ],
     "prompt_number": 12
    },
    {
     "cell_type": "code",
     "collapsed": false,
     "input": [
      "from scipy.stats import chi2\n",
      "\n",
      "# the distribution is a chi-squared distribution with 1 degree of freedom\n",
      "rv = chi2(1)\n",
      "x = np.linspace(0.1, maxLike0.max(), 100000)\n",
      "\n",
      "plt.plot(x, rv.pdf(x), lw=2, color='r')\n",
      "\n",
      "ifunc = interp1d(rv.cdf(x), x)\n",
      "\n",
      "print ifunc(1-1e-4)\n",
      "plt.hist(maxLike0, 50, normed=True)\n",
      "\n",
      "#log(1e-4)"
     ],
     "language": "python",
     "metadata": {},
     "outputs": [
      {
       "output_type": "stream",
       "stream": "stdout",
       "text": [
        "15.1367052269\n"
       ]
      },
      {
       "metadata": {},
       "output_type": "pyout",
       "prompt_number": 13,
       "text": [
        "(array([  1.20945571e+00,   4.07024580e-01,   2.56776911e-01,\n",
        "         1.81246577e-01,   1.28401568e-01,   9.55668536e-02,\n",
        "         7.34584954e-02,   5.83262027e-02,   4.45052005e-02,\n",
        "         3.59031346e-02,   2.81665205e-02,   2.23706164e-02,\n",
        "         1.67320671e-02,   1.26670665e-02,   1.01756145e-02,\n",
        "         8.07754965e-03,   6.50400102e-03,   5.63854927e-03,\n",
        "         4.61574266e-03,   2.98974240e-03,   3.27822632e-03,\n",
        "         2.01938741e-03,   1.52109701e-03,   1.62600025e-03,\n",
        "         1.07525823e-03,   9.70354990e-04,   7.08096885e-04,\n",
        "         4.19612969e-04,   2.09806484e-04,   3.40935537e-04,\n",
        "         3.40935537e-04,   1.04903242e-04,   1.83580674e-04,\n",
        "         1.83580674e-04,   1.83580674e-04,   1.83580674e-04,\n",
        "         7.86774317e-05,   1.31129053e-04,   7.86774317e-05,\n",
        "         7.86774317e-05,   5.24516211e-05,   5.24516211e-05,\n",
        "         0.00000000e+00,   5.24516211e-05,   0.00000000e+00,\n",
        "         5.24516211e-05,   0.00000000e+00,   0.00000000e+00,\n",
        "         0.00000000e+00,   5.24516211e-05]),\n",
        " array([  5.76261411e-11,   3.81303753e-01,   7.62607507e-01,\n",
        "         1.14391126e+00,   1.52521501e+00,   1.90651877e+00,\n",
        "         2.28782252e+00,   2.66912627e+00,   3.05043003e+00,\n",
        "         3.43173378e+00,   3.81303753e+00,   4.19434129e+00,\n",
        "         4.57564504e+00,   4.95694879e+00,   5.33825255e+00,\n",
        "         5.71955630e+00,   6.10086005e+00,   6.48216381e+00,\n",
        "         6.86346756e+00,   7.24477132e+00,   7.62607507e+00,\n",
        "         8.00737882e+00,   8.38868258e+00,   8.76998633e+00,\n",
        "         9.15129008e+00,   9.53259384e+00,   9.91389759e+00,\n",
        "         1.02952013e+01,   1.06765051e+01,   1.10578088e+01,\n",
        "         1.14391126e+01,   1.18204164e+01,   1.22017201e+01,\n",
        "         1.25830239e+01,   1.29643276e+01,   1.33456314e+01,\n",
        "         1.37269351e+01,   1.41082389e+01,   1.44895426e+01,\n",
        "         1.48708464e+01,   1.52521501e+01,   1.56334539e+01,\n",
        "         1.60147576e+01,   1.63960614e+01,   1.67773652e+01,\n",
        "         1.71586689e+01,   1.75399727e+01,   1.79212764e+01,\n",
        "         1.83025802e+01,   1.86838839e+01,   1.90651877e+01]),\n",
        " <a list of 50 Patch objects>)"
       ]
      },
      {
       "metadata": {},
       "output_type": "display_data",
       "png": "[encoded data removed]",
       "text": [
        "<matplotlib.figure.Figure at 0x108bd0dd0>"
       ]
      }
     ],
     "prompt_number": 13
    },
    {
     "cell_type": "markdown",
     "metadata": {},
     "source": [
      "<h3>3.1E: Expert level: Sensitivity curves and ROC curves</h3>"
     ]
    },
    {
     "cell_type": "markdown",
     "metadata": {},
     "source": [
      "<h3>3.2 Bayesian Hypothesis Testing</h3>\n",
      "\n",
      "<p>\n",
      "    When condisering Bayesian parameter estimation, we used Bayes theorem for a <em>single</em> hypothesis. We now use the \n",
      "    more general form of Bayes theorem:    \n",
      "    $$\n",
      "    p(\\lambda,H|d) = \\frac{p(d|\\lambda,H)p(\\lambda,H)}{p(d)},\n",
      "    $$\n",
      "    where $p(\\lambda,H|d)$ is the probability of the joint posterior of parameters and the hypotheses, $p(d|\\lambda,H)$ is the likelihood of the data given a set of parameters and hypotheses, $p(\\lambda,H)=p(\\lambda|H)p(H)$ is the prior probability on the parameters and hypotheses and $p(d)$ is the probability of the data itself, also known as the evidence. Here we are interested in the evidence:    \n",
      "    $$\n",
      "    p(d)=\\sum_i\\int d\\lambda_i\\,p(d|\\lambda_i,H_i)p(\\lambda_i|H_i)p(H_i)= \\sum_i p(d|H_i)p(H_i)\n",
      "    $$\n",
      "    which is the sum of the marginal likelihoods for different Hypotheses. In some cases, there may be many possible hypotheses, but it is\n",
      "    always possible to compare different ones. In our case we want to <em>directly</em> calculate the evidence for hypotheses, $H_1$ and $H_0$.\n",
      "    The bayes factor is defined as the ratio of two marginal likelihoods    \n",
      "    $$\n",
      "    B_{10} = \\frac{p(d|H_1)}{p(d|H_0)}.\n",
      "    $$    \n",
      "    In large parameter spaces, this is notoriously hard to calculate; however, in our case it is trivial since our null \n",
      "    hypothesis model has no parameters and our signal model only has 1 parameter we have    \n",
      "    $$\n",
      "    B_{10}=\\int dA\\,\\, \\Lambda(A|d)p(A)\n",
      "    $$    \n",
      "    where $\\Lambda(A|d)$ is just the likelihood ratio defined above and $p(A)$ is the prior on $A$, which we take to be constant. \n",
      "    For our calculation, we will need to include the prior even though it is a constant. You can analytically find the normalizing\n",
      "    constant by integrating $p(A)=C$ over the range of $A$ (which is $[0,5\\times10^{-7}]$ if using the same as exercise 2.2) and \n",
      "    setting it equal to 1. That is, we require    \n",
      "    $$\n",
      "    \\int dA\\,\\, p(A) = 1\n",
      "    $$\n",
      "</p>\n",
      "\n",
      "<ol>\n",
      "    <li>\n",
      "        Loop over 1000 amplitude values and compute the log likelihood just like in exercise 2.2. Once you have the log-likelihood ratio \n",
      "        at each amplitude value you can exponentiate it to obtain the likelihood itself.\n",
      "    </li>    \n",
      "    <li>\n",
      "        Use the likelihood values to compute the bayes factor. Remember we can just use a block integral        \n",
      "        $$\n",
      "        \\int dA\\,\\, \\Lambda(A|d) \\approx \\sum_i\\Lambda(A_i|d) \\Delta A.\n",
      "        $$        \n",
      "        The value of the Bayes factor that is normally considered decisive evidence for model $H_1$ over model $H_0$ is 100. This \n",
      "        values comes from the so-called <a href=\"http://en.wikipedia.org/wiki/Bayes_factor#Interpretation\">Jeffreys' scale</a>. For\n",
      "        our purposes here we will follow this scale but in real data analysis applications is is an open problem as to which value \n",
      "        one would truly consider decisive, say for claiming the detection of GWs. One could implement a hybrid frequentist-Bayesian\n",
      "        method where the Bayes factor is used as our test statistic and we can set corresponding FAPs and thresholds for detection.\n",
      "    </li>\n",
      "</ol>"
     ]
    },
    {
     "cell_type": "code",
     "collapsed": false,
     "input": [
      "N = 1000\n",
      "Amps = np.linspace(0, 5e-7, N)\n",
      "dA = Amps[1]-Amps[0]\n",
      "llike = np.zeros(N)\n",
      "for ii in range(N):\n",
      "    llike[ii] = LogLikelihood(data, t, Amps[ii], freq, sigma)\n",
      "\n",
      "like = np.exp(llike)  \n",
      "\n",
      "# bayes factor\n",
      "B = np.sum(like)/Amps.max()*dA\n",
      "print 'Bayes factor = {0}'.format(B)\n"
     ],
     "language": "python",
     "metadata": {},
     "outputs": [
      {
       "output_type": "stream",
       "stream": "stdout",
       "text": [
        "Bayes factor = 12251.9900461\n"
       ]
      }
     ],
     "prompt_number": 14
    },
    {
     "cell_type": "markdown",
     "metadata": {},
     "source": [
      "<h4>3.2.1 Occam Penalty</h4>\n",
      "\n",
      "<p>\n",
      "    In hypothesis testing we generally want to choose the simplest model if it provides a good fit to the data. In essence, \n",
      "    we need to weigh the \"goodnes of fit\" versus the simplicity of the model. For example, we could use a free parameter for \n",
      "    every data point, then our model would fit the data perfectly but this model would have hundreds of parameters, versus just\n",
      "    one for our sinusoid model. The bayes factor automatically incorporates this parsimony through the integration of the posterior,\n",
      "    which contains our prior distribution. \n",
      "</p>\n",
      "\n",
      "<ol>\n",
      "    <li>\n",
      "        We can see this automatic parsimony by choosing a larger prior range on $A$ in the above calculation of the Bayes factor. \n",
      "        Repeat the calculation but now create the amplitude vector going up to $5\\times 10^{-6}$. <em>Hint:</em> Remember to \n",
      "        recalculate the normalization of the prior.\n",
      "    </li>\n",
      "</ol>"
     ]
    },
    {
     "cell_type": "code",
     "collapsed": false,
     "input": [
      "N = 1000\n",
      "Amps = np.linspace(0, 5e-6, N)\n",
      "dA = Amps[1]-Amps[0]\n",
      "llike = np.zeros(N)\n",
      "for ii in range(N):\n",
      "    llike[ii] = LogLikelihood(data, t, Amps[ii], freq, sigma)\n",
      "\n",
      "like = np.exp(llike)  \n",
      "\n",
      "# bayes factor\n",
      "B = np.sum(like)/Amps.max()*dA\n",
      "print 'Bayes factor = {0}'.format(B)"
     ],
     "language": "python",
     "metadata": {},
     "outputs": [
      {
       "output_type": "stream",
       "stream": "stdout",
       "text": [
        "Bayes factor = 1225.19930306\n"
       ]
      }
     ],
     "prompt_number": 15
    },
    {
     "cell_type": "code",
     "collapsed": false,
     "input": [],
     "language": "python",
     "metadata": {},
     "outputs": [],
     "prompt_number": 15
    }
   ],
   "metadata": {}
  }
 ]
}